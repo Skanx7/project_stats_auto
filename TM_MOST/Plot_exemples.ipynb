{
 "cells": [
  {
   "cell_type": "markdown",
   "metadata": {},
   "source": [
    "<h1  style=\"color:white; background-color:#808b96; border-radius: 30px; padding:30px;\">  Exemple 1 </h1>"
   ]
  },
  {
   "cell_type": "code",
   "execution_count": null,
   "metadata": {},
   "outputs": [],
   "source": [
    "# -*- coding: utf-8 -*-"
   ]
  },
  {
   "cell_type": "code",
   "execution_count": null,
   "metadata": {},
   "outputs": [],
   "source": [
    "%matplotlib inline  \n",
    "## cette commande uniquement sous jupyter : %matplotlib inline \n"
   ]
  },
  {
   "cell_type": "code",
   "execution_count": null,
   "metadata": {},
   "outputs": [],
   "source": [
    "import numpy as np\n",
    "import matplotlib.pyplot as plt\n",
    "\n",
    "fig, ax = plt.subplots()\n",
    "line, = ax.plot(np.random.rand(800))\n",
    "ax.set_xlim(0, 801)\n",
    "ax.set_ylim(0, 1)\n",
    "plt.show()\n",
    "\n",
    "# comment"
   ]
  },
  {
   "cell_type": "markdown",
   "metadata": {},
   "source": [
    "<h1  style=\"color:white; background-color:#808b96; border-radius: 30px; padding:30px;\">  Exemple 2  </h1>"
   ]
  },
  {
   "cell_type": "code",
   "execution_count": null,
   "metadata": {},
   "outputs": [],
   "source": [
    "%matplotlib inline\n",
    "import random\n",
    "import numpy as np\n",
    "import matplotlib.pyplot as plt\n",
    "\n",
    "\n",
    "x = np.linspace(0, 1)\n",
    "y = np.sin(4 * np.pi * x) * np.exp(-5 * x)\n",
    "\n",
    "plt.fill(x, y, color=[random.random(),random.random(), random.random()])\n",
    "plt.grid(True)\n",
    "\n",
    "plt.xlabel(r\"$x$\", fontsize=13)\n",
    "plt.ylabel(r\"$f(x)=sin(4\\pi x) \\, e^{-5x}$\", fontsize=13)\n",
    "plt.show()"
   ]
  },
  {
   "cell_type": "markdown",
   "metadata": {},
   "source": [
    "<h1  style=\"color:white; background-color:#808b96; border-radius: 30px; padding:30px;\">  Exemple 3 </h1>"
   ]
  },
  {
   "cell_type": "code",
   "execution_count": null,
   "metadata": {},
   "outputs": [],
   "source": [
    "%matplotlib inline\n",
    "import numpy as np\n",
    "import matplotlib.pyplot as plt\n",
    "\n",
    "x = np.linspace(0, 2 * np.pi, 100)\n",
    "y1 = np.sin(x)\n",
    "y2 = np.sin(3 * x)\n",
    "plt.fill(x, y1, 'b', x, y2, 'r', alpha=0.3)\n",
    "plt.show()"
   ]
  },
  {
   "cell_type": "markdown",
   "metadata": {},
   "source": [
    "<h1  style=\"color:white; background-color:#808b96; border-radius: 30px; padding:30px;\">  Exemple 4 </h1>"
   ]
  },
  {
   "cell_type": "code",
   "execution_count": null,
   "metadata": {},
   "outputs": [],
   "source": [
    "%matplotlib inline\n",
    "import matplotlib.pyplot as plt\n",
    "import random\n",
    "\n",
    "plt.figure(figsize=(10,8))\n",
    "\n",
    "labels = 'Chiens', 'Chats', 'Grenouilles', 'Journaux'\n",
    "sizes = [15, 30, 45, 10]\n",
    "\n",
    "colors =[[random.random(),random.random(),random.random()] for _ in range(len(labels))]\n",
    "explode = (0, 0.1, 0, 0)\n",
    "\n",
    "plt.pie(sizes, explode=explode, labels=labels, colors=colors,\n",
    "        autopct='%1.1f%%', shadow=True, startangle=90)\n",
    "\n",
    "plt.axis('equal')\n",
    "plt.show()"
   ]
  },
  {
   "cell_type": "markdown",
   "metadata": {},
   "source": [
    "<h1  style=\"color:white; background-color:#808b96; border-radius: 30px; padding:30px;\">  Exemple 5 </h1>"
   ]
  },
  {
   "cell_type": "code",
   "execution_count": null,
   "metadata": {},
   "outputs": [],
   "source": [
    "%matplotlib inline\n",
    "import matplotlib.pyplot as plt\n",
    "\n",
    "plt.figure(figsize=(10,8))\n",
    "\n",
    "labels = ['Python', 'Matlab', 'C++', 'Java']\n",
    "sizes = [38.4, 40.6, 20.7, 10.3]\n",
    "colors = ['yellowgreen', 'gold', 'lightskyblue', 'lightcoral']\n",
    "patches, texts = plt.pie(sizes, colors=colors,  shadow=True, startangle=90)\n",
    "plt.legend(patches, labels, loc=\"best\")\n",
    "plt.axis('equal')\n",
    "plt.tight_layout()\n",
    "plt.show()"
   ]
  },
  {
   "cell_type": "markdown",
   "metadata": {},
   "source": [
    "<h1  style=\"color:white; background-color:#808b96; border-radius: 30px; padding:30px;\">  Exemple 6 </h1>"
   ]
  },
  {
   "cell_type": "code",
   "execution_count": null,
   "metadata": {},
   "outputs": [],
   "source": [
    "%matplotlib inline\n",
    "import numpy as np\n",
    "import matplotlib.pyplot as plt\n",
    "x = [5, 4, 3, 3, 5]\n",
    "\n",
    "plt.figure(figsize=(10,8))\n",
    "\n",
    "Couleurs =[[random.random(),random.random(),random.random()] for _ in range(len(x))]\n",
    "plt.pie(x, labels = ['python', 'matlab', 'C++', 'java', 'R'],\n",
    "           colors = Couleurs,\n",
    "           explode = [0.2, 0, 0, 0, 0],\n",
    "           autopct = lambda x: str(round(x, 2)) + '%',\n",
    "           pctdistance = 0.7, labeldistance = 1.1,\n",
    "           shadow = True)\n",
    "\n",
    "#plt.legend(loc=\"best\")\n",
    "plt.legend(loc=3)\n",
    "plt.show()"
   ]
  },
  {
   "cell_type": "markdown",
   "metadata": {},
   "source": [
    "<h1  style=\"color:white; background-color:#808b96; border-radius: 30px; padding:30px;\">  Exemple 7 </h1>"
   ]
  },
  {
   "cell_type": "code",
   "execution_count": null,
   "metadata": {},
   "outputs": [],
   "source": [
    "%matplotlib inline\n",
    "import numpy as np\n",
    "import matplotlib.pyplot as plt\n",
    " \n",
    "# data to plot\n",
    "n_groups = 4\n",
    "means_frank = (90, 55, 40, 65)\n",
    "means_guido = (85, 62, 54, 20)\n",
    " \n",
    "# create plot\n",
    "\n",
    "fig, ax = plt.subplots(figsize=(10,8))\n",
    "# remove top and right spines\n",
    "ax.spines['right'].set_visible(False)\n",
    "ax.spines['top'].set_visible(False)\n",
    "# remove top and right spine ticks\n",
    "ax.xaxis.set_ticks_position('bottom')\n",
    "ax.yaxis.set_ticks_position('left')\n",
    "\n",
    "index = np.arange(n_groups)\n",
    "bar_width = 0.35\n",
    "opacity = 0.8\n",
    " \n",
    "rects1 = plt.bar(index, means_frank, bar_width,\n",
    "                 alpha=opacity,\n",
    "                 color='b',\n",
    "                 label='Frank')\n",
    " \n",
    "rects2 = plt.bar(index + bar_width, means_guido, bar_width,\n",
    "                 alpha=opacity,\n",
    "                 color='g',\n",
    "                 label='Guido')\n",
    " \n",
    "plt.xlabel('Person')\n",
    "plt.ylabel('Scores')\n",
    "plt.title('Scores by person')\n",
    "plt.xticks(index + bar_width, ('A', 'B', 'C', 'D'))\n",
    "plt.legend()\n",
    " \n",
    "plt.tight_layout()\n",
    "plt.show()"
   ]
  },
  {
   "cell_type": "markdown",
   "metadata": {},
   "source": [
    "<h1  style=\"color:white; background-color:#808b96; border-radius: 30px; padding:30px;\">  Exemple 8 </h1>"
   ]
  },
  {
   "cell_type": "code",
   "execution_count": null,
   "metadata": {},
   "outputs": [],
   "source": [
    "%matplotlib inline\n",
    "\n",
    "import matplotlib\n",
    "import matplotlib.pyplot as plt\n",
    "import numpy as np\n",
    "import datetime\n",
    " \n",
    "# création de data \n",
    "customdate = datetime.datetime(2021, 1, 1, 13, 30)\n",
    "y = [ 2,4,6,8,10,12,14,16,18,20 ]\n",
    "x = [customdate + datetime.timedelta(hours=i) for i in range(len(y))]\n",
    " \n",
    "# plot\n",
    "plt.figure(figsize=(10,8))\n",
    "\n",
    "plt.plot(x,y)\n",
    "plt.gcf().autofmt_xdate()\n",
    "plt.show()"
   ]
  },
  {
   "cell_type": "markdown",
   "metadata": {},
   "source": [
    "<h1  style=\"color:white; background-color:#808b96; border-radius: 30px; padding:30px;\">  Exemple 9 </h1>"
   ]
  },
  {
   "cell_type": "code",
   "execution_count": null,
   "metadata": {},
   "outputs": [],
   "source": [
    "%matplotlib inline\n",
    "\n",
    "import numpy as np\n",
    "import matplotlib.pyplot as plt\n",
    " \n",
    "# data\n",
    "N = 90\n",
    "g1 = (0.6 + 0.6 * np.random.rand(N), np.random.rand(N))\n",
    "g2 = (0.4+0.3 * np.random.rand(N), 0.5*np.random.rand(N))\n",
    "g3 = (0.3*np.random.rand(N),0.3*np.random.rand(N))\n",
    " \n",
    "data = (g1, g2, g3)\n",
    "colors = (\"red\", \"green\", \"blue\")\n",
    "groups = (\"coffee\", \"tea\", \"water\") \n",
    " \n",
    "# \n",
    "fig = plt.figure(figsize=(10,8))\n",
    "ax = fig.add_subplot(1, 1, 1, facecolor=\"1.0\")\n",
    "\n",
    "# remove top and right spines\n",
    "ax.spines['right'].set_visible(False)\n",
    "ax.spines['top'].set_visible(False)\n",
    "# remove top and right spine ticks\n",
    "ax.xaxis.set_ticks_position('bottom')\n",
    "ax.yaxis.set_ticks_position('left')\n",
    " \n",
    "for data, color, group in zip(data, colors, groups):\n",
    "    x, y = data\n",
    "    ax.scatter(x, y, alpha=0.8, c=color, edgecolors='none', s=30, label=group)\n",
    "\n",
    "plt.title('Matplot scatter plot')\n",
    "plt.legend(loc=2)\n",
    "plt.show()"
   ]
  },
  {
   "cell_type": "markdown",
   "metadata": {},
   "source": [
    "<h1  style=\"color:white; background-color:#808b96; border-radius: 30px; padding:30px;\">  Exemple 10 </h1>"
   ]
  },
  {
   "cell_type": "code",
   "execution_count": null,
   "metadata": {},
   "outputs": [],
   "source": [
    "%matplotlib inline\n",
    "\n",
    "import numpy as np\n",
    "import matplotlib.pyplot as plt\n",
    "\n",
    "plt.figure(figsize=(10,8))\n",
    "\n",
    "plt.subplot(111, facecolor='black')\n",
    "\n",
    "\n",
    "t = np.arange(0.0, 2.0, 0.01)\n",
    "s = np.sin(2*np.pi*t)\n",
    "plt.plot(t, s, color=[1,1,1])\n",
    "\n",
    "plt.xlabel('temps (s)', color='r')\n",
    "plt.ylabel('voltage (mV)', color='0.15') \n",
    "plt.title('figure : fond noir', color='green')\n",
    "plt.show()"
   ]
  },
  {
   "cell_type": "markdown",
   "metadata": {},
   "source": [
    "<h1  style=\"color:white; background-color:#808b96; border-radius: 30px; padding:30px;\">  Exemple 11 </h1>"
   ]
  },
  {
   "cell_type": "code",
   "execution_count": null,
   "metadata": {},
   "outputs": [],
   "source": [
    "import matplotlib.pyplot as plt\n",
    "import random\n",
    "import numpy\n",
    "import math\n",
    "\n",
    "fig, axes = plt.subplots(1, 3, figsize=(15, 5))\n",
    "plt.subplots_adjust(top=0.92, bottom=0.08, left=0.10, right=0.95, \n",
    "                    hspace=0.35,wspace=0.35)\n",
    "\n",
    "\n",
    "x = numpy.linspace(0, 1e3, 100)\n",
    "y1=x**4 \n",
    "y2 = x**5\n",
    "\n",
    "for i in range(3):\n",
    "    # remove top and right spines\n",
    "    axes[i].spines['top'].set_visible(False)\n",
    "    axes[i].spines['right'].set_visible(False)\n",
    "    #axes[i].spines['left'].set_visible(False)\n",
    "    axes[i].xaxis.set_ticks_position('bottom')\n",
    "    axes[i].yaxis.set_ticks_position('left')\n",
    "\n",
    "axes[0].set_title('loglog')\n",
    "axes[0].loglog(x, y1, 'b', x, y2, 'r')\n",
    "\n",
    "axes[1].set_title('semilogy')\n",
    "axes[1].semilogy(x, y1, 'b', x, y2, 'r')\n",
    "\n",
    "axes[2].set_title('plot / set_xscale / set_yscale')\n",
    "axes[2].plot(x, y1, 'b', x, y2, 'r')\n",
    "axes[2].set_xscale('log')\n",
    "axes[2].set_yscale('log')\n",
    "\n",
    "plt.show()"
   ]
  },
  {
   "cell_type": "markdown",
   "metadata": {},
   "source": [
    "<h1  style=\"color:white; background-color:#808b96; border-radius: 30px; padding:30px;\">  Exemple 12 </h1>"
   ]
  },
  {
   "cell_type": "code",
   "execution_count": null,
   "metadata": {},
   "outputs": [],
   "source": [
    "import matplotlib.pyplot as plt\n",
    "import matplotlib.ticker as ticker\n",
    "import matplotlib as mpl\n",
    "import random\n",
    "import numpy\n",
    "import math\n",
    "\n",
    "fig, axes = plt.subplots(1, 2, figsize=(10, 7))\n",
    "plt.subplots_adjust(top=0.92, bottom=0.08, left=0.10, right=0.95, \n",
    "                    hspace=0.35,wspace=0.35)\n",
    "\n",
    "axes[0]=plt.subplot(1, 2, 1,facecolor='#d8dfdf') # 1er graphe\n",
    "axes[1]=plt.subplot(1, 2, 2,facecolor='#f4d03f') # 2ème graphe\n",
    "\n",
    "x = numpy.linspace(0, 1e5, 100)\n",
    "y = x**3\n",
    "\n",
    "for i in range(2):\n",
    "    # remove top and right spines\n",
    "    axes[i].spines['top'].set_visible(False)\n",
    "    axes[i].spines['right'].set_visible(False)\n",
    "    #axes[i].spines['left'].set_visible(False)\n",
    "    axes[i].xaxis.set_ticks_position('bottom')\n",
    "    axes[i].yaxis.set_ticks_position('left')\n",
    "\n",
    "axes[0].plot(x, y, 'b.')\n",
    "axes[0].set_title(\"$y=x^{3}$\", loc='center')\n",
    "\n",
    "axes[1].plot(x, y, 'b')\n",
    "axes[1].set_title(\"notation scientifique\", loc='center')\n",
    "\n",
    "formatter = mpl.ticker.ScalarFormatter(useMathText=True)\n",
    "formatter.set_scientific(True)\n",
    "formatter.set_powerlimits((-1,1))\n",
    "axes[1].xaxis.set_major_formatter(formatter)\n",
    "axes[1].yaxis.set_major_formatter(formatter)\n",
    "\n",
    "plt.show()"
   ]
  },
  {
   "cell_type": "markdown",
   "metadata": {},
   "source": [
    "<h1  style=\"color:white; background-color:#808b96; border-radius: 30px; padding:30px;\">  Exemple 13 </h1>"
   ]
  },
  {
   "cell_type": "code",
   "execution_count": null,
   "metadata": {},
   "outputs": [],
   "source": [
    "import matplotlib.pyplot as plt\n",
    "import matplotlib.ticker as ticker\n",
    "import matplotlib as mpl\n",
    "import random\n",
    "import numpy\n",
    "import math\n",
    "\n",
    "x = numpy.linspace(-2 * numpy.pi, 2 * numpy.pi, 700)\n",
    "y = numpy.sin(2*x) * numpy.exp(-0.5*x**2)\n",
    "\n",
    "fig, axes = plt.subplots(1, 4, figsize=(15, 7))\n",
    "plt.subplots_adjust(top=0.92, bottom=0.08, left=0.10, right=0.95, \n",
    "                    hspace=0.25,wspace=0.35)\n",
    "\n",
    "\n",
    "axes[0].plot(x, y, lw=2)\n",
    "axes[0].set_title(\"default ticks\")\n",
    "axes[1].plot(x, y, lw=2)\n",
    "axes[1].set_title(\"set_xticks\")\n",
    "axes[1].set_yticks([-1, 0, 1])\n",
    "axes[1].set_xticks([-5, 0, 5])\n",
    "\n",
    "axes[2].plot(x, y, lw=2)\n",
    "axes[2].set_title(\"set_major_locator\")\n",
    "axes[2].xaxis.set_major_locator(mpl.ticker.MaxNLocator(4))\n",
    "axes[2].yaxis.set_major_locator(mpl.ticker.FixedLocator([-1, 0, 1]))\n",
    "axes[2].xaxis.set_minor_locator(mpl.ticker.MaxNLocator(8))\n",
    "axes[2].yaxis.set_minor_locator(mpl.ticker.MaxNLocator(8))\n",
    "\n",
    "axes[3].plot(x, y, lw=2)\n",
    "axes[3].set_title(\"set_xticklabels\")\n",
    "axes[3].set_yticks([-1, 0, 1])\n",
    "axes[3].set_xticks([-2 * numpy.pi, -numpy.pi, 0, numpy.pi, 2 * numpy.pi])\n",
    "axes[3].set_xticklabels(['$-2\\pi$', '$-\\pi$', 0, r'$\\pi$', r'$2\\pi$'])\n",
    "x_minor_ticker = mpl.ticker.FixedLocator([-3 * numpy.pi / 2, -numpy.pi/2, 0,numpy.pi/2, 3 * numpy.pi/2])\n",
    "axes[3].xaxis.set_minor_locator(x_minor_ticker)\n",
    "axes[3].yaxis.set_minor_locator(mpl.ticker.MaxNLocator(4))\n",
    "\n",
    "\n",
    "for i in range(4):\n",
    "    # retirer les cadres \"haut\" et \"droite\"\n",
    "    axes[i].spines['top'].set_visible(False)\n",
    "    axes[i].spines['right'].set_visible(False)\n",
    "    #axes[i].spines['left'].set_visible(False)\n",
    "    axes[i].xaxis.set_ticks_position('bottom')\n",
    "    axes[i].yaxis.set_ticks_position('left')"
   ]
  },
  {
   "cell_type": "markdown",
   "metadata": {},
   "source": [
    "<h1  style=\"color:white; background-color:#808b96; border-radius: 30px; padding:30px;\">  Exemple 14 </h1>"
   ]
  },
  {
   "cell_type": "code",
   "execution_count": null,
   "metadata": {},
   "outputs": [],
   "source": [
    "%matplotlib inline\n",
    "import matplotlib.pyplot as plt\n",
    "import math\n",
    "import numpy\n",
    "\n",
    "def normale_densite(x,mu):  # densité de la loi  N(mu,1)\n",
    "    c=1.0/math.sqrt(2*math.pi)\n",
    "    return c*math.exp(-0.5*(x-mu)**2)\n",
    "\n",
    "fig, axes = plt.subplots(nrows=2, ncols=3,figsize=(10, 8))\n",
    "#plt.tight_layout() # Ou,  \"fig.tight_layout()\"\n",
    "\n",
    "mu=[[0,-1,1],[-3,-2,7]]\n",
    "\n",
    "fig.suptitle(\"Densité de la loi normale $\\\\mathcal{N}(\\\\mu , 1)$\", \n",
    "             fontsize=15,family='Arial',weight='bold')\n",
    "\n",
    "for i in range(len(axes)):\n",
    "    for j in range(len(axes[i])):\n",
    "        # remove top and right spines\n",
    "        axes[i][j].spines['right'].set_visible(False)\n",
    "        axes[i][j].spines['top'].set_visible(False)\n",
    "        # remove top and right spine ticks\n",
    "        axes[i][j].xaxis.set_ticks_position('bottom')\n",
    "        axes[i][j].yaxis.set_ticks_position('left')\n",
    "        \n",
    "        XX=numpy.linspace(mu[i][j]-3.5,mu[i][j]+3.5,200)\n",
    "        YY=[normale_densite(x,mu[i][j]) for x in XX]\n",
    "        axes[i][j].plot(XX,YY)\n",
    "        \n",
    "        axes[i][j].set_title(\"$\\\\mu=$%s\"%(mu[i][j]))\n",
    "        \n",
    "        axes[i][j].set_xlabel(\"$x$\")\n",
    "        axes[i][j].set_ylabel(\"$\\\\varphi(x-\\\\mu)$\")\n",
    "        \n",
    "\n",
    "plt.subplots_adjust(top=0.85, bottom=0.11, left=0.1, right=0.98, hspace=0.65,wspace=0.85)\n",
    "\n",
    "plt.show()\n"
   ]
  },
  {
   "cell_type": "markdown",
   "metadata": {},
   "source": [
    "<h1  style=\"color:white; background-color:#808b96; border-radius: 30px; padding:30px;\">  Exemple 15 </h1>"
   ]
  },
  {
   "cell_type": "code",
   "execution_count": null,
   "metadata": {},
   "outputs": [],
   "source": [
    "%matplotlib inline \n",
    "\n",
    "import matplotlib.pyplot as plt\n",
    "x = [5, 3, 7, 2, 4, 1]\n",
    "fig, ax = plt.subplots(subplot_kw={'facecolor': '#d6dbdf'},\n",
    "                           facecolor='#b3e7f1',figsize=(10, 8))\n",
    "\n",
    "# remove top and right spines\n",
    "ax.spines['right'].set_visible(False)\n",
    "ax.spines['top'].set_visible(False)\n",
    "\n",
    "# remove top and right spine ticks\n",
    "ax.xaxis.set_ticks_position('bottom')\n",
    "ax.yaxis.set_ticks_position('left')\n",
    "\n",
    "plt.plot(x);\n",
    "plt.xticks(range(len(x)), ['a', 'b', 'c', 'd', 'e', 'f']);\n",
    "plt.yticks(range(1, 8, 2));\n",
    "plt.show()"
   ]
  },
  {
   "cell_type": "markdown",
   "metadata": {},
   "source": [
    "<h1  style=\"color:white; background-color:#808b96; border-radius: 30px; padding:30px;\">  Exemple 16 </h1>"
   ]
  },
  {
   "cell_type": "code",
   "execution_count": null,
   "metadata": {},
   "outputs": [],
   "source": [
    "%matplotlib inline \n",
    "\n",
    "import matplotlib.pyplot as plt\n",
    "import numpy as np\n",
    "\n",
    "import collections\n",
    "\n",
    "dict = {'A': 40, 'B': 70, 'C': 30, 'D': 85}  # dictionnaire\n",
    "\n",
    "dict = collections.OrderedDict(sorted(dict.items())) ## ordonner par clé\n",
    "\n",
    "########################################################################\n",
    "\n",
    "from collections import OrderedDict\n",
    "\n",
    "########################################################################\n",
    "\n",
    "fig = plt.figure(figsize=(10,7))\n",
    "ax = fig.add_subplot(111,facecolor='#e4eef0')\n",
    "\n",
    "# remove top and right spines\n",
    "ax.spines['right'].set_visible(False)\n",
    "ax.spines['top'].set_visible(False)\n",
    "#ax.spines['left'].set_visible(False)\n",
    "# remove top and right spine ticks\n",
    "ax.xaxis.set_ticks_position('bottom')\n",
    "ax.yaxis.set_ticks_position('left')\n",
    "\n",
    "for i, key in enumerate(dict): \n",
    "    plt.bar(i, dict[key])\n",
    "    plt.text(i, dict[key], dict[key], horizontalalignment='center',\n",
    "             verticalalignment='bottom',fontsize=10)\n",
    "\n",
    "plt.xticks(np.arange(len(dict))-0.1, list(dict.keys()));\n",
    "plt.yticks(list(dict.values()));\n",
    "plt.show()"
   ]
  },
  {
   "cell_type": "markdown",
   "metadata": {},
   "source": [
    "<h1  style=\"color:white; background-color:#808b96; border-radius: 30px; padding:30px;\">  Exemple 17 </h1>"
   ]
  },
  {
   "cell_type": "code",
   "execution_count": null,
   "metadata": {},
   "outputs": [],
   "source": [
    "%matplotlib inline\n",
    "import matplotlib.pyplot as plt\n",
    "import numpy as np\n",
    "x = np.random.randn(1000)\n",
    "y = np.random.randn(1000)\n",
    "\n",
    "colors = np.random.rand(len(x))\n",
    "\n",
    "fig,ax=plt.subplots(figsize=(10,7))\n",
    "# remove top and right spines\n",
    "ax.spines['right'].set_visible(False)\n",
    "ax.spines['top'].set_visible(False)\n",
    "\n",
    "# remove top and right spine ticks\n",
    "ax.xaxis.set_ticks_position('bottom')\n",
    "ax.yaxis.set_ticks_position('left')\n",
    "plt.scatter(x, y, s=30, c=colors);\n",
    "plt.show()"
   ]
  },
  {
   "cell_type": "markdown",
   "metadata": {},
   "source": [
    "<h1  style=\"color:white; background-color:#808b96; border-radius: 30px; padding:30px;\">  Exemple 18 </h1>"
   ]
  },
  {
   "cell_type": "code",
   "execution_count": null,
   "metadata": {},
   "outputs": [],
   "source": [
    "%matplotlib inline\n",
    "import matplotlib.pyplot as plt\n",
    "import numpy as np\n",
    "x = np.arange(0, 10, 0.1)\n",
    "y = np.random.normal(-5,2,len(x))\n",
    "fig = plt.figure(figsize=(10,7))\n",
    "ax = fig.add_subplot(111)\n",
    "\n",
    "# remove top and right spines\n",
    "ax.spines['right'].set_visible(False)\n",
    "ax.spines['top'].set_visible(False)\n",
    "# remove top and right spine ticks\n",
    "ax.xaxis.set_ticks_position('bottom')\n",
    "ax.yaxis.set_ticks_position('left')\n",
    "\n",
    "plt.plot(x, y)\n",
    "ax.set_title('nombres aléatoires suivant une loi $\\\\mathcal{N}$(-5,4)')\n",
    "plt.show()"
   ]
  },
  {
   "cell_type": "markdown",
   "metadata": {},
   "source": [
    "<h1  style=\"color:white; background-color:#808b96; border-radius: 30px; padding:30px;\">  Exemple 19 </h1>"
   ]
  },
  {
   "cell_type": "code",
   "execution_count": null,
   "metadata": {},
   "outputs": [],
   "source": [
    "%matplotlib inline\n",
    "\n",
    "import matplotlib.pyplot as plt\n",
    "import numpy as np\n",
    "\n",
    "\n",
    "x = np.arange(0.01, np.e, 0.01)\n",
    "y1 = np.exp(-x)\n",
    "y2 = np.log(x)\n",
    "\n",
    "fig = plt.figure(figsize=(10,8))\n",
    "ax1 = fig.add_subplot(111)\n",
    "ax1.plot(x, y1)\n",
    "\n",
    "ax1.spines['top'].set_visible(False)\n",
    "# remove top and right spine ticks\n",
    "ax1.xaxis.set_ticks_position('bottom')\n",
    "ax1.yaxis.set_ticks_position('left')\n",
    "\n",
    "ax1.set_ylabel('valeurs de y pour exp(-x)');\n",
    "ax2 = ax1.twinx() # \n",
    "ax2.spines['top'].set_visible(False)\n",
    "\n",
    "ax2.plot(x, y2, 'r')\n",
    "ax2.set_xlim([0, np.e]);\n",
    "ax2.set_ylabel('valeurs de y pour ln(x)');\n",
    "plt.show()"
   ]
  },
  {
   "cell_type": "markdown",
   "metadata": {},
   "source": [
    "<h1  style=\"color:white; background-color:#808b96; border-radius: 30px; padding:30px;\">  Exemple 20 </h1>"
   ]
  },
  {
   "cell_type": "code",
   "execution_count": null,
   "metadata": {},
   "outputs": [],
   "source": [
    "\n",
    "%matplotlib inline\n",
    "\n",
    "import matplotlib as mpl\n",
    "import matplotlib.pyplot as plt\n",
    "import numpy as np\n",
    "import datetime as dt\n",
    "\n",
    "\n",
    "fig = plt.figure(figsize=(11,8))\n",
    "ax2 = fig.add_subplot(212)\n",
    "date2_1 = dt.datetime(2020, 9, 23)\n",
    "date2_2 = dt.datetime(2020, 10, 3)\n",
    "\n",
    "\n",
    "delta2 = dt.timedelta(days=1)\n",
    "dates2 = mpl.dates.drange(date2_1, date2_2, delta2)\n",
    "y2 = np.random.rand(len(dates2))\n",
    "ax2.plot_date(dates2, y2, linestyle='-');\n",
    "dateFmt = mpl.dates.DateFormatter('%Y-%m-%d')\n",
    "ax2.xaxis.set_major_formatter(dateFmt)\n",
    "daysLoc = mpl.dates.DayLocator()\n",
    "hoursLoc = mpl.dates.HourLocator(interval=6)\n",
    "ax2.xaxis.set_major_locator(daysLoc)\n",
    "ax2.xaxis.set_minor_locator(hoursLoc)\n",
    "fig.autofmt_xdate(bottom=0.18) # adjust for date labels display \n",
    "\n",
    "\n",
    "fig.subplots_adjust(wspace = 0.45,hspace = 0.52)\n",
    "\n",
    "ax1 = fig.add_subplot(211)\n",
    "date1_1 = dt.datetime(2016, 9, 23)\n",
    "date1_2 = dt.datetime(2017, 2, 16)\n",
    "delta1 = dt.timedelta(days=10)\n",
    "dates1 = mpl.dates.drange(date1_1, date1_2, delta1)\n",
    "y1 = np.random.rand(len(dates1))\n",
    "ax1.plot_date(dates1, y1, linestyle='-');\n",
    "monthsLoc = mpl.dates.MonthLocator()\n",
    "weeksLoc = mpl.dates.WeekdayLocator()\n",
    "ax1.xaxis.set_major_locator(monthsLoc)\n",
    "ax1.xaxis.set_minor_locator(weeksLoc)\n",
    "monthsFmt = mpl.dates.DateFormatter('%b')\n",
    "ax1.xaxis.set_major_formatter(monthsFmt)\n",
    "plt.show() "
   ]
  },
  {
   "cell_type": "markdown",
   "metadata": {},
   "source": [
    "<h1  style=\"color:white; background-color:#808b96; border-radius: 30px; padding:30px;\">  Exemple 21 </h1>"
   ]
  },
  {
   "cell_type": "code",
   "execution_count": null,
   "metadata": {},
   "outputs": [],
   "source": [
    "fig = plt.figure(figsize=(12,10))\n",
    "x = np.linspace(-np.pi, np.pi, 100)\n",
    "y = 2 * np.sin(x)\n",
    "\n",
    "ax = plt.gca()\n",
    "\n",
    "ax.set_title('spines  centrés')\n",
    "ax.plot(x, y,lw=3)\n",
    "\n",
    "ax.spines['right'].set_color('none')\n",
    "ax.spines['top'].set_color('none')\n",
    "ax.spines['bottom'].set_color('blue')\n",
    "ax.spines['left'].set_color('blue')\n",
    "\n",
    "\n",
    "ax.xaxis.set_ticks_position('bottom')\n",
    "ax.spines['bottom'].set_position(('data',0))\n",
    "ax.yaxis.set_ticks_position('left')\n",
    "ax.spines['left'].set_position(('data',0))\n",
    "\n",
    "plt.show()"
   ]
  },
  {
   "cell_type": "markdown",
   "metadata": {},
   "source": [
    "<h1  style=\"color:white; background-color:#808b96; border-radius: 30px; padding:30px;\">  \n",
    "<p> Exemple 22 </p>\n",
    "\n",
    "<p> Densité + histogramme </p>\n",
    "</h1>"
   ]
  },
  {
   "cell_type": "code",
   "execution_count": null,
   "metadata": {},
   "outputs": [],
   "source": [
    "def classes_continues(data,nb_classe=5):\n",
    "   \n",
    "    import functools\n",
    "    e0=functools.reduce(lambda x,y: x if x<= y else y , data) # min(data)\n",
    "    ek=functools.reduce(lambda x,y: x if x>= y else y , data) # max(data)\n",
    "\n",
    "    Extremites=[e0+(ek-e0)*i/(1.0*nb_classe) for i in range(nb_classe+1)]\n",
    "    Compte=[len([i for i in range(len(data)) if data[i]>= Extremites[k] and data[i]<= Extremites[k+1]]) for k in range(nb_classe)]\n",
    "   \n",
    "    return Extremites, Compte\n",
    "\n",
    "### Exemple :\n",
    "import numpy\n",
    "classes_continues(numpy.random.normal(8,1,19))  # N(8,1)  we have 19 data"
   ]
  },
  {
   "cell_type": "code",
   "execution_count": null,
   "metadata": {},
   "outputs": [],
   "source": [
    "def Histogramme_densite(data,densite,nb_classe=5):  # densite=pdf\n",
    "    import numpy\n",
    "    import matplotlib.pyplot as plt\n",
    "    \n",
    "    nb_points=300\n",
    "    \n",
    "    Extremites, Compte=classes_continues(data,nb_classe)\n",
    "    Centre=[0.5*(Extremites[k]+Extremites[k+1])  for k in range(nb_classe)]\n",
    "    \n",
    "    \n",
    "    ecart=Extremites[1]-Extremites[0]\n",
    "    \n",
    "    if Extremites[0] <0 :\n",
    "        intervalle=[-2*ecart+Extremites[0]+(4*ecart+Extremites[nb_classe]-Extremites[0])*i/(nb_points-1) for i in range(nb_points)]\n",
    "    else:\n",
    "        intervalle=[Extremites[0]+(4*ecart+(Extremites[nb_classe]-Extremites[0]))*i/(nb_points-1) for i in range(nb_points)]\n",
    "    \n",
    "    y=[densite(x) for x in intervalle]\n",
    "    alpha=numpy.max(y)/numpy.max(Compte)\n",
    "    Compte1=[alpha*n for n in Compte]\n",
    "    \n",
    "    plt.close('all')\n",
    "    plt.figure(figsize=(11,8))\n",
    "    ax=plt.gca()\n",
    "    plt.plot(intervalle,y,lw=2,color=[0.01,0.01,0.01])\n",
    "    for k in range(nb_classe):\n",
    "        plt.bar(Centre[k], Compte1[k], width=ecart,color=[0.8,0.55,0.9],ec=\"white\")\n",
    "        \n",
    "        \n",
    "    ax.spines['top'].set_visible(False)   # coté droit\n",
    "    ax.spines['right'].set_visible(False) # côté haut\n",
    "    #ax.spines['left'].set_visible(False)\n",
    "    \n",
    "    #ax.set_yticks([])  # ne pas afficher yticks\n",
    "    \n",
    "    ax.set_xlabel(\"$x$\", fontsize=14)\n",
    "    ax.set_ylabel(\"$f(x)$\", fontsize=14)\n",
    "    plt.show()\n",
    "    "
   ]
  },
  {
   "cell_type": "code",
   "execution_count": null,
   "metadata": {},
   "outputs": [],
   "source": [
    "# Application à la loi normale\n",
    "\n",
    "import scipy.stats\n",
    "import numpy\n",
    "\n",
    "NN=5936  # number of data\n",
    "mu=8\n",
    "sigma=5\n",
    "\n",
    "data1=numpy.random.normal(mu,sigma,NN)\n",
    "\n",
    "f1=lambda x :scipy.stats.norm.pdf(x,mu,sigma)\n",
    "#f1(3)\n",
    "\n",
    "Histogramme_densite(data1,f1,nb_classe=15)"
   ]
  },
  {
   "cell_type": "code",
   "execution_count": null,
   "metadata": {},
   "outputs": [],
   "source": [
    "import numpy  \n",
    "numpy.random.rand()  #   loi uniforme sur [0,1]"
   ]
  },
  {
   "cell_type": "code",
   "execution_count": null,
   "metadata": {},
   "outputs": [],
   "source": [
    "#  Loi Exp \n",
    "\n",
    "LLambda =1/3\n",
    "\n",
    "import numpy\n",
    "\n",
    "data_size=8014\n",
    "\n",
    "# simulation pour l'histogramme\n",
    "\n",
    "X=[-1.0*numpy.log(1-numpy.random.rand())/LLambda  for i in range(data_size)]\n"
   ]
  },
  {
   "cell_type": "code",
   "execution_count": null,
   "metadata": {},
   "outputs": [],
   "source": [
    "# densité de la loi Rxp(lambda)\n",
    "f2=lambda x :LLambda*numpy.exp(-LLambda*x)"
   ]
  },
  {
   "cell_type": "code",
   "execution_count": null,
   "metadata": {},
   "outputs": [],
   "source": [
    "Histogramme_densite(X,f2,nb_classe=7)"
   ]
  },
  {
   "cell_type": "code",
   "execution_count": null,
   "metadata": {},
   "outputs": [],
   "source": []
  }
 ],
 "metadata": {
  "kernelspec": {
   "display_name": "Python 3",
   "language": "python",
   "name": "python3"
  },
  "language_info": {
   "codemirror_mode": {
    "name": "ipython",
    "version": 3
   },
   "file_extension": ".py",
   "mimetype": "text/x-python",
   "name": "python",
   "nbconvert_exporter": "python",
   "pygments_lexer": "ipython3",
   "version": "3.7.3"
  }
 },
 "nbformat": 4,
 "nbformat_minor": 2
}
